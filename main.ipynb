{
 "cells": [
  {
   "cell_type": "code",
   "execution_count": 100,
   "metadata": {},
   "outputs": [],
   "source": [
    "import torch\n",
    "import numpy as np"
   ]
  },
  {
   "cell_type": "code",
   "execution_count": 113,
   "metadata": {},
   "outputs": [
    {
     "name": "stdout",
     "output_type": "stream",
     "text": [
      "Best arm is 2 \n"
     ]
    }
   ],
   "source": [
    "\n",
    "#### Hyper parameters ####\n",
    "\n",
    "num_arms = 10\n",
    "num_agents = 10\n",
    "max_epochs = 10000\n",
    "epsilon = 0.25\n",
    "influence_weight = 0.25\n",
    "device = \"cpu\" #torch.device(\"cuda\" if torch.cuda.is_available() else \"cpu\")\n",
    "\n",
    "##########################\n",
    "\n",
    "\n",
    "### Initialization ###\n",
    "\n",
    "arm_performance = torch.rand(num_arms, 2, device=device)\n",
    "history = torch.zeros(max_epochs, num_agents, num_arms, device=device)\n",
    "adjacency_matrix = torch.rand(num_agents, num_agents, requires_grad=True, device=device)\n",
    "\n",
    "######################\n",
    "\n",
    "best_arm = torch.argmax(arm_performance[:, 0])\n",
    "print(f\"Best arm is {best_arm} \")"
   ]
  },
  {
   "cell_type": "code",
   "execution_count": 114,
   "metadata": {},
   "outputs": [],
   "source": [
    "for epoch in range(1, max_epochs):\n",
    "# torch.sqrt(torch.log(epoch)/(1+))\n",
    "    performance_estimate = history.sum(dim=0) / (history.sum(dim=0).sum(dim=1).unsqueeze(1) + 1)\n",
    "    arm_pull_count = history.bool().sum(dim=0).int()\n",
    "    choice = torch.argmax(performance_estimate + torch.sqrt(np.log(epoch)/(1+arm_pull_count)) + influence_weight * adjacency_matrix @ performance_estimate, dim=1)\n",
    "    \n",
    "    rewards = torch.normal(mean=arm_performance[choice, 0], std=torch.abs(arm_performance[choice, 1]))\n",
    "\n",
    "\n",
    "    current_epoch_record = torch.zeros(num_agents, num_arms)\n",
    "\n",
    "    for i in range(num_agents):\n",
    "        for j in range(num_arms):\n",
    "            if j == choice[i]:\n",
    "                current_epoch_record[i, j] = rewards[i]\n",
    "\n",
    "\n",
    "    history[epoch] = current_epoch_record\n"
   ]
  },
  {
   "cell_type": "code",
   "execution_count": null,
   "metadata": {},
   "outputs": [],
   "source": []
  }
 ],
 "metadata": {
  "kernelspec": {
   "display_name": "ml",
   "language": "python",
   "name": "python3"
  },
  "language_info": {
   "codemirror_mode": {
    "name": "ipython",
    "version": 3
   },
   "file_extension": ".py",
   "mimetype": "text/x-python",
   "name": "python",
   "nbconvert_exporter": "python",
   "pygments_lexer": "ipython3",
   "version": "3.9.17"
  },
  "orig_nbformat": 4
 },
 "nbformat": 4,
 "nbformat_minor": 2
}
